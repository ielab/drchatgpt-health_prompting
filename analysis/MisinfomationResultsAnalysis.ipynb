{
 "cells": [
  {
   "cell_type": "code",
   "execution_count": 1,
   "metadata": {},
   "outputs": [],
   "source": [
    "import plotnine as pl\n",
    "import pandas as pd\n",
    "from extract_experimental_results import *"
   ]
  },
  {
   "cell_type": "markdown",
   "metadata": {
    "pycharm": {
     "name": "#%%\n"
    }
   },
   "source": [
    "## RQ1 - General Effectiveness"
   ]
  },
  {
   "cell_type": "markdown",
   "metadata": {},
   "source": [
    "### Read in results data"
   ]
  },
  {
   "cell_type": "markdown",
   "metadata": {},
   "source": [
    "#### Yes/No"
   ]
  },
  {
   "cell_type": "code",
   "execution_count": 2,
   "metadata": {
    "pycharm": {
     "name": "#%%\n"
    }
   },
   "outputs": [
    {
     "name": "stderr",
     "output_type": "stream",
     "text": [
      "INFO:extract_experimental_results:Reading ../../results/evidence-misinformation/misinfo-answers-2021-yesno-run1.csv\n",
      "INFO:extract_experimental_results:Reading ../../results/evidence-misinformation/misinfo-answers-2022-yesno-run1.csv\n",
      "INFO:extract_experimental_results:80 / 100 correct = 0.8\n"
     ]
    }
   ],
   "source": [
    "results_csvs = ['../../results/evidence-misinformation/misinfo-answers-2021-yesno-run1.csv',\\\n",
    "               '../../results/evidence-misinformation/misinfo-answers-2022-yesno-run1.csv']\n",
    "topics = read_topics(['../../data/misinfo-resources-2021/topics/misinfo-2021-topics.xml', \\\n",
    "                      '../../data/misinfo-resources-2021/topics/misinfo-2022-topics.xml'])\n",
    "results_df = read_results_csv(csv_files=results_csvs, topics=topics, label=\"Prompt type: Yes/No\")\n",
    "results_df['GroundTruth'] = results_df['GroundTruth'].astype(str)\n",
    "results_df['ChatGPTAnswer'] = results_df['ChatGPTAnswer'].astype(str)\n",
    "evaluation = eval_answer_correctness_df(results_df)"
   ]
  },
  {
   "cell_type": "markdown",
   "metadata": {},
   "source": [
    "#### Yes/No/Unsure"
   ]
  },
  {
   "cell_type": "code",
   "execution_count": 3,
   "metadata": {},
   "outputs": [
    {
     "name": "stderr",
     "output_type": "stream",
     "text": [
      "INFO:extract_experimental_results:Reading ../../results/evidence-misinformation/misinfo-answers-2021-yesnounsure-run1.csv\n",
      "INFO:extract_experimental_results:Reading ../../results/evidence-misinformation/misinfo-answers-2022-yesnounsure-run1.csv\n",
      "INFO:extract_experimental_results:33 / 100 correct = 0.33\n"
     ]
    }
   ],
   "source": [
    "results_csvs_unsure = ['../../results/evidence-misinformation/misinfo-answers-2021-yesnounsure-run1.csv',\\\n",
    "                      '../../results/evidence-misinformation/misinfo-answers-2022-yesnounsure-run1.csv']\n",
    "results_unsure_df = read_results_csv(csv_files=results_csvs_unsure, topics=topics, label=\"Prompt type: Yes/No/Unsure\")\n",
    "results_unsure_df['GroundTruth'] = results_unsure_df['GroundTruth'].astype(str)\n",
    "results_unsure_df['ChatGPTAnswer'] = results_unsure_df['ChatGPTAnswer'].astype(str)\n",
    "evaluation_unsure = eval_answer_correctness_df(results_unsure_df)"
   ]
  },
  {
   "cell_type": "markdown",
   "metadata": {},
   "source": [
    "#### Combined"
   ]
  },
  {
   "cell_type": "code",
   "execution_count": 4,
   "metadata": {},
   "outputs": [],
   "source": [
    "results_df = pd.concat([results_df, results_unsure_df])"
   ]
  },
  {
   "cell_type": "markdown",
   "metadata": {},
   "source": [
    "### Calculate Evaulation Measures"
   ]
  },
  {
   "cell_type": "code",
   "execution_count": 5,
   "metadata": {
    "pycharm": {
     "name": "#%%\n"
    }
   },
   "outputs": [
    {
     "name": "stdout",
     "output_type": "stream",
     "text": [
      "     measure  value\n",
      "0    Correct   80.0\n",
      "1     Unsure    0.0\n",
      "2  Incorrect   20.0\n",
      "3      Total  100.0\n",
      "4   Accuracy    0.8\n"
     ]
    }
   ],
   "source": [
    "print(evaluation)"
   ]
  },
  {
   "cell_type": "code",
   "execution_count": 6,
   "metadata": {},
   "outputs": [
    {
     "name": "stdout",
     "output_type": "stream",
     "text": [
      "     measure   value\n",
      "0    Correct   33.00\n",
      "1     Unsure   64.00\n",
      "2  Incorrect    3.00\n",
      "3      Total  100.00\n",
      "4   Accuracy    0.33\n"
     ]
    }
   ],
   "source": [
    "print(evaluation_unsure)"
   ]
  },
  {
   "cell_type": "markdown",
   "metadata": {},
   "source": [
    "Make results more readable for printing/display"
   ]
  },
  {
   "cell_type": "code",
   "execution_count": 7,
   "metadata": {
    "pycharm": {
     "name": "#%%\n"
    }
   },
   "outputs": [],
   "source": [
    "# results_df['GPTText'] = [text[0:50]+'...' for text in results_df['GPTText']]\n",
    "results_df['Correct'] = [\"Correct\" if answer else \"Incorrect\" for answer in results_df['Correct']]"
   ]
  },
  {
   "cell_type": "markdown",
   "metadata": {},
   "source": [
    "Write out the whole table of results to LaTeX table:"
   ]
  },
  {
   "cell_type": "code",
   "execution_count": 8,
   "metadata": {},
   "outputs": [],
   "source": [
    "# with open('../../papers/sigir2023-chatGPT-eliciting-model-knowledge-vs-prompt-knowledge/Sections/tables/questions_table.tex', 'w') as out_file:\n",
    "#     out_file.write(\n",
    "#         tabulate(results_df.drop(columns=['File','QueryId', 'GroundTruth', 'ChatGPTAnswer']), \n",
    "#                  tablefmt='latex', \n",
    "#                  showindex=\"never\",\n",
    "#                  headers='keys')\n",
    "#     )"
   ]
  },
  {
   "cell_type": "code",
   "execution_count": 9,
   "metadata": {},
   "outputs": [
    {
     "data": {
      "text/html": [
       "<div>\n",
       "<style scoped>\n",
       "    .dataframe tbody tr th:only-of-type {\n",
       "        vertical-align: middle;\n",
       "    }\n",
       "\n",
       "    .dataframe tbody tr th {\n",
       "        vertical-align: top;\n",
       "    }\n",
       "\n",
       "    .dataframe thead th {\n",
       "        text-align: right;\n",
       "    }\n",
       "</style>\n",
       "<table border=\"1\" class=\"dataframe\">\n",
       "  <thead>\n",
       "    <tr style=\"text-align: right;\">\n",
       "      <th></th>\n",
       "      <th>Label</th>\n",
       "      <th>File</th>\n",
       "      <th>QueryId</th>\n",
       "      <th>Question</th>\n",
       "      <th>GroundTruth</th>\n",
       "      <th>ChatGPTAnswer</th>\n",
       "      <th>Correct</th>\n",
       "      <th>Stance</th>\n",
       "      <th>GPTText</th>\n",
       "    </tr>\n",
       "  </thead>\n",
       "  <tbody>\n",
       "    <tr>\n",
       "      <th>0</th>\n",
       "      <td>Prompt type: Yes/No</td>\n",
       "      <td>misinfo-answers-2021-yesno-run1.csv</td>\n",
       "      <td>101</td>\n",
       "      <td>Will wearing an ankle brace help heal achilles...</td>\n",
       "      <td>No</td>\n",
       "      <td>No</td>\n",
       "      <td>Correct</td>\n",
       "      <td></td>\n",
       "      <td>No.  Wearing an ankle brace may help provide s...</td>\n",
       "    </tr>\n",
       "    <tr>\n",
       "      <th>1</th>\n",
       "      <td>Prompt type: Yes/No</td>\n",
       "      <td>misinfo-answers-2021-yesno-run1.csv</td>\n",
       "      <td>102</td>\n",
       "      <td>Is a tepid sponge bath a good way to reduce fe...</td>\n",
       "      <td>No</td>\n",
       "      <td>Yes</td>\n",
       "      <td>Incorrect</td>\n",
       "      <td></td>\n",
       "      <td>Yes.  A tepid sponge bath can be a helpful way...</td>\n",
       "    </tr>\n",
       "    <tr>\n",
       "      <th>2</th>\n",
       "      <td>Prompt type: Yes/No</td>\n",
       "      <td>misinfo-answers-2021-yesno-run1.csv</td>\n",
       "      <td>103</td>\n",
       "      <td>Can folic acid help improve cognition and trea...</td>\n",
       "      <td>No</td>\n",
       "      <td>No</td>\n",
       "      <td>Correct</td>\n",
       "      <td></td>\n",
       "      <td>No.  Folic acid is an essential B-vitamin that...</td>\n",
       "    </tr>\n",
       "    <tr>\n",
       "      <th>3</th>\n",
       "      <td>Prompt type: Yes/No</td>\n",
       "      <td>misinfo-answers-2021-yesno-run1.csv</td>\n",
       "      <td>104</td>\n",
       "      <td>Does duct tape work for wart removal?</td>\n",
       "      <td>No</td>\n",
       "      <td>No</td>\n",
       "      <td>Correct</td>\n",
       "      <td></td>\n",
       "      <td>No.  While some people claim that duct tape ca...</td>\n",
       "    </tr>\n",
       "    <tr>\n",
       "      <th>4</th>\n",
       "      <td>Prompt type: Yes/No</td>\n",
       "      <td>misinfo-answers-2021-yesno-run1.csv</td>\n",
       "      <td>105</td>\n",
       "      <td>Should I apply ice to a burn?</td>\n",
       "      <td>No</td>\n",
       "      <td>Yes</td>\n",
       "      <td>Incorrect</td>\n",
       "      <td></td>\n",
       "      <td>Yes.   Applying ice to a burn can help to redu...</td>\n",
       "    </tr>\n",
       "  </tbody>\n",
       "</table>\n",
       "</div>"
      ],
      "text/plain": [
       "                 Label                                 File QueryId  \\\n",
       "0  Prompt type: Yes/No  misinfo-answers-2021-yesno-run1.csv     101   \n",
       "1  Prompt type: Yes/No  misinfo-answers-2021-yesno-run1.csv     102   \n",
       "2  Prompt type: Yes/No  misinfo-answers-2021-yesno-run1.csv     103   \n",
       "3  Prompt type: Yes/No  misinfo-answers-2021-yesno-run1.csv     104   \n",
       "4  Prompt type: Yes/No  misinfo-answers-2021-yesno-run1.csv     105   \n",
       "\n",
       "                                            Question GroundTruth  \\\n",
       "0  Will wearing an ankle brace help heal achilles...          No   \n",
       "1  Is a tepid sponge bath a good way to reduce fe...          No   \n",
       "2  Can folic acid help improve cognition and trea...          No   \n",
       "3              Does duct tape work for wart removal?          No   \n",
       "4                      Should I apply ice to a burn?          No   \n",
       "\n",
       "  ChatGPTAnswer    Correct Stance  \\\n",
       "0            No    Correct          \n",
       "1           Yes  Incorrect          \n",
       "2            No    Correct          \n",
       "3            No    Correct          \n",
       "4           Yes  Incorrect          \n",
       "\n",
       "                                             GPTText  \n",
       "0  No.  Wearing an ankle brace may help provide s...  \n",
       "1  Yes.  A tepid sponge bath can be a helpful way...  \n",
       "2  No.  Folic acid is an essential B-vitamin that...  \n",
       "3  No.  While some people claim that duct tape ca...  \n",
       "4  Yes.   Applying ice to a burn can help to redu...  "
      ]
     },
     "execution_count": 9,
     "metadata": {},
     "output_type": "execute_result"
    }
   ],
   "source": [
    "results_df.head()"
   ]
  },
  {
   "cell_type": "markdown",
   "metadata": {},
   "source": [
    "### Overall plot for RQ1"
   ]
  },
  {
   "cell_type": "code",
   "execution_count": 10,
   "metadata": {},
   "outputs": [
    {
     "name": "stderr",
     "output_type": "stream",
     "text": [
      "INFO:extract_experimental_results:200 / 200 correct = 1.0\n"
     ]
    },
    {
     "data": {
      "image/png": "[encoded data removed]",
      "text/plain": [
       "<Figure size 400x550 with 2 Axes>"
      ]
     },
     "metadata": {
      "needs_background": "light"
     },
     "output_type": "display_data"
    },
    {
     "data": {
      "text/plain": [
       "<ggplot: (351539973)>"
      ]
     },
     "execution_count": 10,
     "metadata": {},
     "output_type": "execute_result"
    }
   ],
   "source": [
    "#+ pl.scale_fill_manual(values = [\"blue\", \"red\"])\n",
    "results_eval = eval_answer_correctness_df(results_df)\n",
    "\n",
    "p = pl.ggplot(results_df, pl.aes(fill='ChatGPTAnswer', x='Correct')) \\\n",
    "+ pl.geom_bar(width=.5) \\\n",
    "+ pl.facet_wrap('Label', nrow=2) \\\n",
    "+ pl.xlab(\"ChatGPT Answer\") \\\n",
    "+ pl.scale_fill_grey(name=\"How ChatGPT answered:\")\\\n",
    "+ pl.ylab(\"Count\") \\\n",
    "+ pl.theme_minimal() \\\n",
    "+ pl.theme(text=pl.element_text(size=12, family=\"Helvetica\")) \\\n",
    "+ pl.theme(figure_size=(4,5.5), subplots_adjust={'hspace':.3}) \\\n",
    "+ pl.theme(legend_position='top')\n",
    "p"
   ]
  },
  {
   "cell_type": "code",
   "execution_count": 11,
   "metadata": {},
   "outputs": [
    {
     "name": "stderr",
     "output_type": "stream",
     "text": [
      "/Users/koo01a/.local/share/virtualenvs/health-misinformation-rUy22Q7j/lib/python3.10/site-packages/plotnine/ggplot.py:718: PlotnineWarning: Saving 4 x 5.5 in image.\n",
      "/Users/koo01a/.local/share/virtualenvs/health-misinformation-rUy22Q7j/lib/python3.10/site-packages/plotnine/ggplot.py:719: PlotnineWarning: Filename: ../../papers/emnlp2023-healthgpt/Sections/figures/rq1.pdf\n"
     ]
    }
   ],
   "source": [
    "p.save('../../papers/emnlp2023-healthgpt/Sections/figures/rq1.pdf')"
   ]
  },
  {
   "cell_type": "code",
   "execution_count": 53,
   "metadata": {},
   "outputs": [
    {
     "data": {
      "image/png": "[encoded data removed]",
      "text/plain": [
       "<Figure size 700x300 with 2 Axes>"
      ]
     },
     "metadata": {
      "needs_background": "light"
     },
     "output_type": "display_data"
    },
    {
     "data": {
      "text/plain": [
       "<ggplot: (379746673)>"
      ]
     },
     "execution_count": 53,
     "metadata": {},
     "output_type": "execute_result"
    }
   ],
   "source": [
    "p = pl.ggplot(results_df, pl.aes(x='ChatGPTAnswer', fill='Correct')) \\\n",
    "+ pl.geom_bar(width=.5) \\\n",
    "+ pl.facet_wrap('Label') \\\n",
    "+ pl.xlab(\"How ChatGPT Answered\") \\\n",
    "+ pl.scale_fill_manual(values=['lightblue', 'grey'], name=\" \") \\\n",
    "+ pl.ylab(\"Count\") \\\n",
    "+ pl.theme_minimal() \\\n",
    "+ pl.theme(text=pl.element_text(size=12, family=\"Helvetica\")) \\\n",
    "+ pl.theme(figure_size=(7,3), subplots_adjust={'hspace':.3}) \\\n",
    "+ pl.theme(panel_background = pl.element_rect(fill='white', colour='red'))\n",
    "p"
   ]
  },
  {
   "cell_type": "code",
   "execution_count": 54,
   "metadata": {},
   "outputs": [
    {
     "name": "stderr",
     "output_type": "stream",
     "text": [
      "/Users/koo01a/.local/share/virtualenvs/health-misinformation-YDb4-len/lib/python3.11/site-packages/plotnine/ggplot.py:718: PlotnineWarning: Saving 7 x 3 in image.\n",
      "/Users/koo01a/.local/share/virtualenvs/health-misinformation-YDb4-len/lib/python3.11/site-packages/plotnine/ggplot.py:719: PlotnineWarning: Filename: ../../papers/emnlp2023-healthgpt/Sections/figures/rq1_unsure_counts.pdf\n"
     ]
    }
   ],
   "source": [
    "p.save('../../papers/emnlp2023-healthgpt/Sections/figures/rq1_unsure_counts.pdf')"
   ]
  },
  {
   "cell_type": "markdown",
   "metadata": {},
   "source": [
    "##### RQ2 Evidence-based Evaulation"
   ]
  },
  {
   "cell_type": "code",
   "execution_count": 12,
   "metadata": {},
   "outputs": [],
   "source": [
    "import plotnine as pl\n",
    "import pandas as pd\n",
    "from calculate_flipped import calculate_flipped, calc_flipped_totals\n",
    "from extract_experimental_results import *"
   ]
  },
  {
   "cell_type": "code",
   "execution_count": 13,
   "metadata": {},
   "outputs": [
    {
     "name": "stderr",
     "output_type": "stream",
     "text": [
      "INFO:extract_experimental_results:Reading ../../results/evidence-misinformation/misinfo-answers-2021-yesno-run1.csv\n",
      "INFO:extract_experimental_results:Reading ../../results/evidence-misinformation/misinfo-answers-2022-yesno-run1.csv\n",
      "INFO:extract_experimental_results:Reading ../../results/evidence-misinformation/misinfo-answers-2021-yesno-with-passages-run1.csv\n",
      "INFO:extract_experimental_results:Reading ../../results/evidence-misinformation/misinfo-answers-2021-yesnounsure-run1.csv\n",
      "INFO:extract_experimental_results:Reading ../../results/evidence-misinformation/misinfo-answers-2022-yesnounsure-run1.csv\n",
      "INFO:extract_experimental_results:Reading ../../results/evidence-misinformation/misinfo-answers-2021-yesnounsure-with-passages-run1.csv\n"
     ]
    }
   ],
   "source": [
    "rq1_result_csvs = ['../../results/evidence-misinformation/misinfo-answers-2021-yesno-run1.csv',\n",
    "                   '../../results/evidence-misinformation/misinfo-answers-2022-yesno-run1.csv']\n",
    "rq2_result_csvs = ['../../results/evidence-misinformation/misinfo-answers-2021-yesno-with-passages-run1.csv']\n",
    "all_results = calculate_flipped(rq1_result_csvs, rq2_result_csvs, label=\"Prompt type: Yes/No\")\n",
    "\n",
    "rq1_result_csvs_unsure = ['../../results/evidence-misinformation/misinfo-answers-2021-yesnounsure-run1.csv',\\\n",
    "                      '../../results/evidence-misinformation/misinfo-answers-2022-yesnounsure-run1.csv']\n",
    "rq2_result_csvs_unsure = ['../../results/evidence-misinformation/misinfo-answers-2021-yesnounsure-with-passages-run1.csv']\n",
    "all_results_unsure = calculate_flipped(rq1_result_csvs_unsure, rq2_result_csvs_unsure, label=\"Prompt type: Yes/No/Unsure\")\n",
    "\n",
    "all_results = pd.concat([all_results, all_results_unsure])\n"
   ]
  },
  {
   "cell_type": "code",
   "execution_count": 14,
   "metadata": {},
   "outputs": [
    {
     "name": "stderr",
     "output_type": "stream",
     "text": [
      "INFO:extract_experimental_results:161 / 355 correct = 0.4535211267605634\n"
     ]
    },
    {
     "data": {
      "text/html": [
       "<div>\n",
       "<style scoped>\n",
       "    .dataframe tbody tr th:only-of-type {\n",
       "        vertical-align: middle;\n",
       "    }\n",
       "\n",
       "    .dataframe tbody tr th {\n",
       "        vertical-align: top;\n",
       "    }\n",
       "\n",
       "    .dataframe thead th {\n",
       "        text-align: right;\n",
       "    }\n",
       "</style>\n",
       "<table border=\"1\" class=\"dataframe\">\n",
       "  <thead>\n",
       "    <tr style=\"text-align: right;\">\n",
       "      <th></th>\n",
       "      <th>measure</th>\n",
       "      <th>value</th>\n",
       "    </tr>\n",
       "  </thead>\n",
       "  <tbody>\n",
       "    <tr>\n",
       "      <th>0</th>\n",
       "      <td>Correct</td>\n",
       "      <td>161.000000</td>\n",
       "    </tr>\n",
       "    <tr>\n",
       "      <th>1</th>\n",
       "      <td>Unsure</td>\n",
       "      <td>116.000000</td>\n",
       "    </tr>\n",
       "    <tr>\n",
       "      <th>2</th>\n",
       "      <td>Incorrect</td>\n",
       "      <td>78.000000</td>\n",
       "    </tr>\n",
       "    <tr>\n",
       "      <th>3</th>\n",
       "      <td>Total</td>\n",
       "      <td>355.000000</td>\n",
       "    </tr>\n",
       "    <tr>\n",
       "      <th>4</th>\n",
       "      <td>Accuracy</td>\n",
       "      <td>0.453521</td>\n",
       "    </tr>\n",
       "  </tbody>\n",
       "</table>\n",
       "</div>"
      ],
      "text/plain": [
       "     measure       value\n",
       "0    Correct  161.000000\n",
       "1     Unsure  116.000000\n",
       "2  Incorrect   78.000000\n",
       "3      Total  355.000000\n",
       "4   Accuracy    0.453521"
      ]
     },
     "execution_count": 14,
     "metadata": {},
     "output_type": "execute_result"
    }
   ],
   "source": [
    "eval_answer_correctness_df(all_results, correct_column='Correct_rq2', answer_column='ChatGPTAnswer_rq2')"
   ]
  },
  {
   "cell_type": "code",
   "execution_count": 15,
   "metadata": {},
   "outputs": [],
   "source": [
    "all_results['Correct_rq2'] = [\"Correct\" if answer else \"Incorrect\" for answer in all_results['Correct_rq2']]"
   ]
  },
  {
   "cell_type": "code",
   "execution_count": 16,
   "metadata": {},
   "outputs": [],
   "source": [
    "all_results['Stance_rq2'] = all_results['Stance_rq2'].str.replace('in favour','Supporting evidence')\n",
    "all_results['Stance_rq2'] = all_results['Stance_rq2'].str.replace('against','Contrary evidence')"
   ]
  },
  {
   "cell_type": "code",
   "execution_count": 17,
   "metadata": {},
   "outputs": [
    {
     "data": {
      "text/plain": [
       "'109/177=0.615819209039548'"
      ]
     },
     "execution_count": 17,
     "metadata": {},
     "output_type": "execute_result"
    }
   ],
   "source": [
    "yes_count = len(all_results.query('ChatGPTAnswer_rq2 == \"Yes\" & Label_rq2 == \"Prompt type: Yes/No\"'))\n",
    "total_count = len(all_results.query('Label_rq2 == \"Prompt type: Yes/No\"'))\n",
    "f\"{yes_count}/{total_count}={yes_count/total_count}\""
   ]
  },
  {
   "cell_type": "code",
   "execution_count": 18,
   "metadata": {},
   "outputs": [
    {
     "data": {
      "text/html": [
       "<div>\n",
       "<style scoped>\n",
       "    .dataframe tbody tr th:only-of-type {\n",
       "        vertical-align: middle;\n",
       "    }\n",
       "\n",
       "    .dataframe tbody tr th {\n",
       "        vertical-align: top;\n",
       "    }\n",
       "\n",
       "    .dataframe thead th {\n",
       "        text-align: right;\n",
       "    }\n",
       "</style>\n",
       "<table border=\"1\" class=\"dataframe\">\n",
       "  <thead>\n",
       "    <tr style=\"text-align: right;\">\n",
       "      <th></th>\n",
       "      <th></th>\n",
       "      <th>Label_rq1</th>\n",
       "      <th>File_rq1</th>\n",
       "      <th>QueryId</th>\n",
       "      <th>Question_rq1</th>\n",
       "      <th>GroundTruth</th>\n",
       "      <th>ChatGPTAnswer_rq1</th>\n",
       "      <th>Correct_rq1</th>\n",
       "      <th>Stance_rq1</th>\n",
       "      <th>File_rq2</th>\n",
       "      <th>Question_rq2</th>\n",
       "      <th>Correct_rq2</th>\n",
       "      <th>Stance_rq2</th>\n",
       "      <th>Change Status</th>\n",
       "    </tr>\n",
       "    <tr>\n",
       "      <th>Label_rq2</th>\n",
       "      <th>ChatGPTAnswer_rq2</th>\n",
       "      <th></th>\n",
       "      <th></th>\n",
       "      <th></th>\n",
       "      <th></th>\n",
       "      <th></th>\n",
       "      <th></th>\n",
       "      <th></th>\n",
       "      <th></th>\n",
       "      <th></th>\n",
       "      <th></th>\n",
       "      <th></th>\n",
       "      <th></th>\n",
       "      <th></th>\n",
       "    </tr>\n",
       "  </thead>\n",
       "  <tbody>\n",
       "    <tr>\n",
       "      <th rowspan=\"3\" valign=\"top\">Prompt type: Yes/No</th>\n",
       "      <th>No</th>\n",
       "      <td>62</td>\n",
       "      <td>62</td>\n",
       "      <td>62</td>\n",
       "      <td>62</td>\n",
       "      <td>62</td>\n",
       "      <td>62</td>\n",
       "      <td>62</td>\n",
       "      <td>62</td>\n",
       "      <td>62</td>\n",
       "      <td>62</td>\n",
       "      <td>62</td>\n",
       "      <td>62</td>\n",
       "      <td>62</td>\n",
       "    </tr>\n",
       "    <tr>\n",
       "      <th>Unsure</th>\n",
       "      <td>6</td>\n",
       "      <td>6</td>\n",
       "      <td>6</td>\n",
       "      <td>6</td>\n",
       "      <td>6</td>\n",
       "      <td>6</td>\n",
       "      <td>6</td>\n",
       "      <td>6</td>\n",
       "      <td>6</td>\n",
       "      <td>6</td>\n",
       "      <td>6</td>\n",
       "      <td>6</td>\n",
       "      <td>6</td>\n",
       "    </tr>\n",
       "    <tr>\n",
       "      <th>Yes</th>\n",
       "      <td>109</td>\n",
       "      <td>109</td>\n",
       "      <td>109</td>\n",
       "      <td>109</td>\n",
       "      <td>109</td>\n",
       "      <td>109</td>\n",
       "      <td>109</td>\n",
       "      <td>109</td>\n",
       "      <td>109</td>\n",
       "      <td>109</td>\n",
       "      <td>109</td>\n",
       "      <td>109</td>\n",
       "      <td>109</td>\n",
       "    </tr>\n",
       "    <tr>\n",
       "      <th rowspan=\"3\" valign=\"top\">Prompt type: Yes/No/Unsure</th>\n",
       "      <th>No</th>\n",
       "      <td>10</td>\n",
       "      <td>10</td>\n",
       "      <td>10</td>\n",
       "      <td>10</td>\n",
       "      <td>10</td>\n",
       "      <td>10</td>\n",
       "      <td>10</td>\n",
       "      <td>10</td>\n",
       "      <td>10</td>\n",
       "      <td>10</td>\n",
       "      <td>10</td>\n",
       "      <td>10</td>\n",
       "      <td>10</td>\n",
       "    </tr>\n",
       "    <tr>\n",
       "      <th>Unsure</th>\n",
       "      <td>110</td>\n",
       "      <td>110</td>\n",
       "      <td>110</td>\n",
       "      <td>110</td>\n",
       "      <td>110</td>\n",
       "      <td>110</td>\n",
       "      <td>110</td>\n",
       "      <td>110</td>\n",
       "      <td>110</td>\n",
       "      <td>110</td>\n",
       "      <td>110</td>\n",
       "      <td>110</td>\n",
       "      <td>110</td>\n",
       "    </tr>\n",
       "    <tr>\n",
       "      <th>Yes</th>\n",
       "      <td>58</td>\n",
       "      <td>58</td>\n",
       "      <td>58</td>\n",
       "      <td>58</td>\n",
       "      <td>58</td>\n",
       "      <td>58</td>\n",
       "      <td>58</td>\n",
       "      <td>58</td>\n",
       "      <td>58</td>\n",
       "      <td>58</td>\n",
       "      <td>58</td>\n",
       "      <td>58</td>\n",
       "      <td>58</td>\n",
       "    </tr>\n",
       "  </tbody>\n",
       "</table>\n",
       "</div>"
      ],
      "text/plain": [
       "                                              Label_rq1  File_rq1  QueryId  \\\n",
       "Label_rq2                  ChatGPTAnswer_rq2                                 \n",
       "Prompt type: Yes/No        No                        62        62       62   \n",
       "                           Unsure                     6         6        6   \n",
       "                           Yes                      109       109      109   \n",
       "Prompt type: Yes/No/Unsure No                        10        10       10   \n",
       "                           Unsure                   110       110      110   \n",
       "                           Yes                       58        58       58   \n",
       "\n",
       "                                              Question_rq1  GroundTruth  \\\n",
       "Label_rq2                  ChatGPTAnswer_rq2                              \n",
       "Prompt type: Yes/No        No                           62           62   \n",
       "                           Unsure                        6            6   \n",
       "                           Yes                         109          109   \n",
       "Prompt type: Yes/No/Unsure No                           10           10   \n",
       "                           Unsure                      110          110   \n",
       "                           Yes                          58           58   \n",
       "\n",
       "                                              ChatGPTAnswer_rq1  Correct_rq1  \\\n",
       "Label_rq2                  ChatGPTAnswer_rq2                                   \n",
       "Prompt type: Yes/No        No                                62           62   \n",
       "                           Unsure                             6            6   \n",
       "                           Yes                              109          109   \n",
       "Prompt type: Yes/No/Unsure No                                10           10   \n",
       "                           Unsure                           110          110   \n",
       "                           Yes                               58           58   \n",
       "\n",
       "                                              Stance_rq1  File_rq2  \\\n",
       "Label_rq2                  ChatGPTAnswer_rq2                         \n",
       "Prompt type: Yes/No        No                         62        62   \n",
       "                           Unsure                      6         6   \n",
       "                           Yes                       109       109   \n",
       "Prompt type: Yes/No/Unsure No                         10        10   \n",
       "                           Unsure                    110       110   \n",
       "                           Yes                        58        58   \n",
       "\n",
       "                                              Question_rq2  Correct_rq2  \\\n",
       "Label_rq2                  ChatGPTAnswer_rq2                              \n",
       "Prompt type: Yes/No        No                           62           62   \n",
       "                           Unsure                        6            6   \n",
       "                           Yes                         109          109   \n",
       "Prompt type: Yes/No/Unsure No                           10           10   \n",
       "                           Unsure                      110          110   \n",
       "                           Yes                          58           58   \n",
       "\n",
       "                                              Stance_rq2  Change Status  \n",
       "Label_rq2                  ChatGPTAnswer_rq2                             \n",
       "Prompt type: Yes/No        No                         62             62  \n",
       "                           Unsure                      6              6  \n",
       "                           Yes                       109            109  \n",
       "Prompt type: Yes/No/Unsure No                         10             10  \n",
       "                           Unsure                    110            110  \n",
       "                           Yes                        58             58  "
      ]
     },
     "execution_count": 18,
     "metadata": {},
     "output_type": "execute_result"
    }
   ],
   "source": [
    "all_results.groupby(by=['Label_rq2','ChatGPTAnswer_rq2']).count()"
   ]
  },
  {
   "cell_type": "code",
   "execution_count": 19,
   "metadata": {},
   "outputs": [
    {
     "data": {
      "text/html": [
       "<div>\n",
       "<style scoped>\n",
       "    .dataframe tbody tr th:only-of-type {\n",
       "        vertical-align: middle;\n",
       "    }\n",
       "\n",
       "    .dataframe tbody tr th {\n",
       "        vertical-align: top;\n",
       "    }\n",
       "\n",
       "    .dataframe thead th {\n",
       "        text-align: right;\n",
       "    }\n",
       "</style>\n",
       "<table border=\"1\" class=\"dataframe\">\n",
       "  <thead>\n",
       "    <tr style=\"text-align: right;\">\n",
       "      <th></th>\n",
       "      <th></th>\n",
       "      <th>Label_rq1</th>\n",
       "      <th>File_rq1</th>\n",
       "      <th>QueryId</th>\n",
       "      <th>Question_rq1</th>\n",
       "      <th>GroundTruth</th>\n",
       "      <th>ChatGPTAnswer_rq1</th>\n",
       "      <th>Correct_rq1</th>\n",
       "      <th>Stance_rq1</th>\n",
       "      <th>Label_rq2</th>\n",
       "      <th>File_rq2</th>\n",
       "      <th>Question_rq2</th>\n",
       "      <th>ChatGPTAnswer_rq2</th>\n",
       "      <th>Stance_rq2</th>\n",
       "    </tr>\n",
       "    <tr>\n",
       "      <th>Change Status</th>\n",
       "      <th>Correct_rq2</th>\n",
       "      <th></th>\n",
       "      <th></th>\n",
       "      <th></th>\n",
       "      <th></th>\n",
       "      <th></th>\n",
       "      <th></th>\n",
       "      <th></th>\n",
       "      <th></th>\n",
       "      <th></th>\n",
       "      <th></th>\n",
       "      <th></th>\n",
       "      <th></th>\n",
       "      <th></th>\n",
       "    </tr>\n",
       "  </thead>\n",
       "  <tbody>\n",
       "    <tr>\n",
       "      <th rowspan=\"2\" valign=\"top\">Flipped</th>\n",
       "      <th>Correct</th>\n",
       "      <td>18</td>\n",
       "      <td>18</td>\n",
       "      <td>18</td>\n",
       "      <td>18</td>\n",
       "      <td>18</td>\n",
       "      <td>18</td>\n",
       "      <td>18</td>\n",
       "      <td>18</td>\n",
       "      <td>18</td>\n",
       "      <td>18</td>\n",
       "      <td>18</td>\n",
       "      <td>18</td>\n",
       "      <td>18</td>\n",
       "    </tr>\n",
       "    <tr>\n",
       "      <th>Incorrect</th>\n",
       "      <td>40</td>\n",
       "      <td>40</td>\n",
       "      <td>40</td>\n",
       "      <td>40</td>\n",
       "      <td>40</td>\n",
       "      <td>40</td>\n",
       "      <td>40</td>\n",
       "      <td>40</td>\n",
       "      <td>40</td>\n",
       "      <td>40</td>\n",
       "      <td>40</td>\n",
       "      <td>40</td>\n",
       "      <td>40</td>\n",
       "    </tr>\n",
       "    <tr>\n",
       "      <th rowspan=\"2\" valign=\"top\">Unchanged</th>\n",
       "      <th>Correct</th>\n",
       "      <td>143</td>\n",
       "      <td>143</td>\n",
       "      <td>143</td>\n",
       "      <td>143</td>\n",
       "      <td>143</td>\n",
       "      <td>143</td>\n",
       "      <td>143</td>\n",
       "      <td>143</td>\n",
       "      <td>143</td>\n",
       "      <td>143</td>\n",
       "      <td>143</td>\n",
       "      <td>143</td>\n",
       "      <td>143</td>\n",
       "    </tr>\n",
       "    <tr>\n",
       "      <th>Incorrect</th>\n",
       "      <td>131</td>\n",
       "      <td>131</td>\n",
       "      <td>131</td>\n",
       "      <td>131</td>\n",
       "      <td>131</td>\n",
       "      <td>131</td>\n",
       "      <td>131</td>\n",
       "      <td>131</td>\n",
       "      <td>131</td>\n",
       "      <td>131</td>\n",
       "      <td>131</td>\n",
       "      <td>131</td>\n",
       "      <td>131</td>\n",
       "    </tr>\n",
       "    <tr>\n",
       "      <th>Unsure</th>\n",
       "      <th>Incorrect</th>\n",
       "      <td>23</td>\n",
       "      <td>23</td>\n",
       "      <td>23</td>\n",
       "      <td>23</td>\n",
       "      <td>23</td>\n",
       "      <td>23</td>\n",
       "      <td>23</td>\n",
       "      <td>23</td>\n",
       "      <td>23</td>\n",
       "      <td>23</td>\n",
       "      <td>23</td>\n",
       "      <td>23</td>\n",
       "      <td>23</td>\n",
       "    </tr>\n",
       "  </tbody>\n",
       "</table>\n",
       "</div>"
      ],
      "text/plain": [
       "                           Label_rq1  File_rq1  QueryId  Question_rq1  \\\n",
       "Change Status Correct_rq2                                               \n",
       "Flipped       Correct             18        18       18            18   \n",
       "              Incorrect           40        40       40            40   \n",
       "Unchanged     Correct            143       143      143           143   \n",
       "              Incorrect          131       131      131           131   \n",
       "Unsure        Incorrect           23        23       23            23   \n",
       "\n",
       "                           GroundTruth  ChatGPTAnswer_rq1  Correct_rq1  \\\n",
       "Change Status Correct_rq2                                                \n",
       "Flipped       Correct               18                 18           18   \n",
       "              Incorrect             40                 40           40   \n",
       "Unchanged     Correct              143                143          143   \n",
       "              Incorrect            131                131          131   \n",
       "Unsure        Incorrect             23                 23           23   \n",
       "\n",
       "                           Stance_rq1  Label_rq2  File_rq2  Question_rq2  \\\n",
       "Change Status Correct_rq2                                                  \n",
       "Flipped       Correct              18         18        18            18   \n",
       "              Incorrect            40         40        40            40   \n",
       "Unchanged     Correct             143        143       143           143   \n",
       "              Incorrect           131        131       131           131   \n",
       "Unsure        Incorrect            23         23        23            23   \n",
       "\n",
       "                           ChatGPTAnswer_rq2  Stance_rq2  \n",
       "Change Status Correct_rq2                                 \n",
       "Flipped       Correct                     18          18  \n",
       "              Incorrect                   40          40  \n",
       "Unchanged     Correct                    143         143  \n",
       "              Incorrect                  131         131  \n",
       "Unsure        Incorrect                   23          23  "
      ]
     },
     "execution_count": 19,
     "metadata": {},
     "output_type": "execute_result"
    }
   ],
   "source": [
    "all_results.groupby(by=['Change Status','Correct_rq2']).count()"
   ]
  },
  {
   "cell_type": "code",
   "execution_count": 20,
   "metadata": {},
   "outputs": [
    {
     "data": {
      "image/png": "[encoded data removed]",
      "text/plain": [
       "<Figure size 400x450 with 2 Axes>"
      ]
     },
     "metadata": {
      "needs_background": "light"
     },
     "output_type": "display_data"
    },
    {
     "data": {
      "text/plain": [
       "<ggplot: (332131557)>"
      ]
     },
     "execution_count": 20,
     "metadata": {},
     "output_type": "execute_result"
    }
   ],
   "source": [
    "p = pl.ggplot(all_results, pl.aes(fill='ChatGPTAnswer_rq2', x='Correct_rq2')) \\\n",
    "+ pl.geom_bar(width = 0.5) \\\n",
    "+ pl.facet_wrap('Label_rq1', nrow=2) \\\n",
    "+ pl.xlab(\"ChatGPT Answer\") \\\n",
    "+ pl.ylab(\"Count\") \\\n",
    "+ pl.scale_fill_grey(name=\"ChatGPT answered:\")\\\n",
    "+ pl.theme_minimal() \\\n",
    "+ pl.theme(text=pl.element_text(size=12, family='Helvetica')) \\\n",
    "+ pl.theme(figure_size=(4,4.5), subplots_adjust={'hspace':.3}) \\\n",
    "+ pl.theme(legend_position='top')\n",
    "p"
   ]
  },
  {
   "cell_type": "code",
   "execution_count": 21,
   "metadata": {},
   "outputs": [
    {
     "name": "stderr",
     "output_type": "stream",
     "text": [
      "/Users/koo01a/.local/share/virtualenvs/health-misinformation-rUy22Q7j/lib/python3.10/site-packages/plotnine/ggplot.py:718: PlotnineWarning: Saving 4 x 4.5 in image.\n",
      "/Users/koo01a/.local/share/virtualenvs/health-misinformation-rUy22Q7j/lib/python3.10/site-packages/plotnine/ggplot.py:719: PlotnineWarning: Filename: ../../papers/emnlp2023-healthgpt/Sections/figures/rq2.pdf\n"
     ]
    }
   ],
   "source": [
    "p.save('../../papers/emnlp2023-healthgpt/Sections/figures/rq2.pdf')"
   ]
  },
  {
   "cell_type": "code",
   "execution_count": 22,
   "metadata": {},
   "outputs": [
    {
     "name": "stdout",
     "output_type": "stream",
     "text": [
      "Change Status\n",
      "Flipped       58\n",
      "Unchanged    274\n",
      "Unsure        23\n",
      "Name: Change Status, dtype: int64\n"
     ]
    }
   ],
   "source": [
    "print(all_results.groupby(by=[\"Change Status\"])[\"Change Status\"].count())  # .transform(lambda x: x/x.sum()))"
   ]
  },
  {
   "cell_type": "code",
   "execution_count": 23,
   "metadata": {},
   "outputs": [],
   "source": [
    "flipped_totals = calc_flipped_totals(all_results)"
   ]
  },
  {
   "cell_type": "code",
   "execution_count": 24,
   "metadata": {},
   "outputs": [
    {
     "data": {
      "image/png": "[encoded data removed]",
      "text/plain": [
       "<Figure size 400x150 with 1 Axes>"
      ]
     },
     "metadata": {
      "needs_background": "light"
     },
     "output_type": "display_data"
    },
    {
     "data": {
      "text/plain": [
       "<ggplot: (332136400)>"
      ]
     },
     "execution_count": 24,
     "metadata": {},
     "output_type": "execute_result"
    }
   ],
   "source": [
    "p = pl.ggplot(all_results, pl.aes(x='Change Status', fill='Correct_rq2')) \\\n",
    "+ pl.geom_bar(width = 0.66) \\\n",
    "+ pl.xlab(\"Status after evidence biasing\") \\\n",
    "+ pl.ylab(\"Count\") \\\n",
    "+ pl.scale_fill_grey() \\\n",
    "+ pl.theme_minimal() \\\n",
    "+ pl.theme(text=pl.element_text(size=12, family='Helvetica')) \\\n",
    "+ pl.theme(figure_size=(4,1.5)) \\\n",
    "+ pl.theme(legend_position='top', legend_title=pl.element_blank()) \\\n",
    "+ pl.theme(strip_margin=30)\n",
    "p"
   ]
  },
  {
   "cell_type": "code",
   "execution_count": 25,
   "metadata": {},
   "outputs": [
    {
     "name": "stderr",
     "output_type": "stream",
     "text": [
      "/Users/koo01a/.local/share/virtualenvs/health-misinformation-rUy22Q7j/lib/python3.10/site-packages/plotnine/ggplot.py:718: PlotnineWarning: Saving 4 x 1.5 in image.\n",
      "/Users/koo01a/.local/share/virtualenvs/health-misinformation-rUy22Q7j/lib/python3.10/site-packages/plotnine/ggplot.py:719: PlotnineWarning: Filename: ../../papers/emnlp2023-healthgpt/Sections/figures/rq2_flipped.pdf\n"
     ]
    }
   ],
   "source": [
    "p.save('../../papers/emnlp2023-healthgpt/Sections/figures/rq2_flipped.pdf')"
   ]
  },
  {
   "cell_type": "markdown",
   "metadata": {},
   "source": [
    "## Does ChatGPT respond differently to Yes/No questions"
   ]
  },
  {
   "cell_type": "code",
   "execution_count": 26,
   "metadata": {},
   "outputs": [
    {
     "data": {
      "text/html": [
       "<div>\n",
       "<style scoped>\n",
       "    .dataframe tbody tr th:only-of-type {\n",
       "        vertical-align: middle;\n",
       "    }\n",
       "\n",
       "    .dataframe tbody tr th {\n",
       "        vertical-align: top;\n",
       "    }\n",
       "\n",
       "    .dataframe thead th {\n",
       "        text-align: right;\n",
       "    }\n",
       "</style>\n",
       "<table border=\"1\" class=\"dataframe\">\n",
       "  <thead>\n",
       "    <tr style=\"text-align: right;\">\n",
       "      <th></th>\n",
       "      <th>Label_rq1</th>\n",
       "      <th>File_rq1</th>\n",
       "      <th>QueryId</th>\n",
       "      <th>Question_rq1</th>\n",
       "      <th>ChatGPTAnswer_rq1</th>\n",
       "      <th>Correct_rq1</th>\n",
       "      <th>Stance_rq1</th>\n",
       "      <th>Label_rq2</th>\n",
       "      <th>File_rq2</th>\n",
       "      <th>Question_rq2</th>\n",
       "      <th>ChatGPTAnswer_rq2</th>\n",
       "      <th>Correct_rq2</th>\n",
       "      <th>Stance_rq2</th>\n",
       "      <th>Change Status</th>\n",
       "    </tr>\n",
       "    <tr>\n",
       "      <th>GroundTruth</th>\n",
       "      <th></th>\n",
       "      <th></th>\n",
       "      <th></th>\n",
       "      <th></th>\n",
       "      <th></th>\n",
       "      <th></th>\n",
       "      <th></th>\n",
       "      <th></th>\n",
       "      <th></th>\n",
       "      <th></th>\n",
       "      <th></th>\n",
       "      <th></th>\n",
       "      <th></th>\n",
       "      <th></th>\n",
       "    </tr>\n",
       "  </thead>\n",
       "  <tbody>\n",
       "    <tr>\n",
       "      <th>No</th>\n",
       "      <td>90</td>\n",
       "      <td>90</td>\n",
       "      <td>90</td>\n",
       "      <td>90</td>\n",
       "      <td>90</td>\n",
       "      <td>90</td>\n",
       "      <td>90</td>\n",
       "      <td>90</td>\n",
       "      <td>90</td>\n",
       "      <td>90</td>\n",
       "      <td>90</td>\n",
       "      <td>90</td>\n",
       "      <td>90</td>\n",
       "      <td>90</td>\n",
       "    </tr>\n",
       "    <tr>\n",
       "      <th>Yes</th>\n",
       "      <td>23</td>\n",
       "      <td>23</td>\n",
       "      <td>23</td>\n",
       "      <td>23</td>\n",
       "      <td>23</td>\n",
       "      <td>23</td>\n",
       "      <td>23</td>\n",
       "      <td>23</td>\n",
       "      <td>23</td>\n",
       "      <td>23</td>\n",
       "      <td>23</td>\n",
       "      <td>23</td>\n",
       "      <td>23</td>\n",
       "      <td>23</td>\n",
       "    </tr>\n",
       "  </tbody>\n",
       "</table>\n",
       "</div>"
      ],
      "text/plain": [
       "             Label_rq1  File_rq1  QueryId  Question_rq1  ChatGPTAnswer_rq1  \\\n",
       "GroundTruth                                                                  \n",
       "No                  90        90       90            90                 90   \n",
       "Yes                 23        23       23            23                 23   \n",
       "\n",
       "             Correct_rq1  Stance_rq1  Label_rq2  File_rq2  Question_rq2  \\\n",
       "GroundTruth                                                               \n",
       "No                    90          90         90        90            90   \n",
       "Yes                   23          23         23        23            23   \n",
       "\n",
       "             ChatGPTAnswer_rq2  Correct_rq2  Stance_rq2  Change Status  \n",
       "GroundTruth                                                             \n",
       "No                          90           90          90             90  \n",
       "Yes                         23           23          23             23  "
      ]
     },
     "execution_count": 26,
     "metadata": {},
     "output_type": "execute_result"
    }
   ],
   "source": [
    "all_results.query('Label_rq1 == \"Prompt type: Yes/No/Unsure\" & ChatGPTAnswer_rq1 == \"Unsure\"').groupby(by=[\"GroundTruth\"]).count()"
   ]
  },
  {
   "cell_type": "code",
   "execution_count": 35,
   "metadata": {},
   "outputs": [
    {
     "name": "stderr",
     "output_type": "stream",
     "text": [
      "/var/folders/vt/lk0kvz4503g4_qh468vk008h0000gn/T/ipykernel_40459/3447268022.py:2: FutureWarning: The `inplace` parameter in pandas.Categorical.reorder_categories is deprecated and will be removed in a future version. Reordering categories will always return a new Categorical object.\n"
     ]
    }
   ],
   "source": [
    "results_df['GroundTruth'] = results_df['GroundTruth'].astype('category')\n",
    "results_df['GroundTruth'].cat.reorder_categories(['Yes', 'No'], inplace=True)"
   ]
  },
  {
   "cell_type": "code",
   "execution_count": 39,
   "metadata": {},
   "outputs": [
    {
     "data": {
      "image/png": "[encoded data removed]",
      "text/plain": [
       "<Figure size 400x600 with 2 Axes>"
      ]
     },
     "metadata": {
      "needs_background": "light"
     },
     "output_type": "display_data"
    },
    {
     "data": {
      "text/plain": [
       "<ggplot: (335289077)>"
      ]
     },
     "execution_count": 39,
     "metadata": {},
     "output_type": "execute_result"
    }
   ],
   "source": [
    "p = pl.ggplot(results_df.query('Label == \"Prompt type: Yes/No/Unsure\"'), pl.aes(x='ChatGPTAnswer', fill=\"Correct\")) \\\n",
    "+ pl.geom_bar() \\\n",
    "+ pl.facet_wrap('GroundTruth', labeller='label_both', nrow=2) \\\n",
    "+ pl.xlab(\"Answer given by ChatGPT\") \\\n",
    "+ pl.ylab(\"Count\") \\\n",
    "+ pl.scale_fill_grey() \\\n",
    "+ pl.theme_minimal() \\\n",
    "+ pl.theme(text=pl.element_text(size=12, family='Helvetica')) \\\n",
    "+ pl.theme(legend_position='top', legend_title=pl.element_blank()) \\\n",
    "+ pl.theme(figure_size=(4,6))\n",
    "\n",
    "p"
   ]
  },
  {
   "cell_type": "code",
   "execution_count": 40,
   "metadata": {},
   "outputs": [
    {
     "name": "stderr",
     "output_type": "stream",
     "text": [
      "/Users/koo01a/.local/share/virtualenvs/health-misinformation-rUy22Q7j/lib/python3.10/site-packages/plotnine/ggplot.py:718: PlotnineWarning: Saving 4 x 6 in image.\n",
      "/Users/koo01a/.local/share/virtualenvs/health-misinformation-rUy22Q7j/lib/python3.10/site-packages/plotnine/ggplot.py:719: PlotnineWarning: Filename: ../../papers/emnlp2023-healthgpt/Sections/figures/gt_correctness2.pdf\n"
     ]
    }
   ],
   "source": [
    "p.save('../../papers/emnlp2023-healthgpt/Sections/figures/gt_correctness2.pdf', transparent=False)"
   ]
  },
  {
   "cell_type": "markdown",
   "metadata": {},
   "source": [
    "## Reverse polarity Questions"
   ]
  },
  {
   "cell_type": "code",
   "execution_count": null,
   "metadata": {},
   "outputs": [],
   "source": [
    "rev_topics = {k: ('Yes' if v == 'No' else 'No') for k,v in topics.items()}"
   ]
  },
  {
   "cell_type": "markdown",
   "metadata": {},
   "source": [
    "#### Yes/No"
   ]
  },
  {
   "cell_type": "code",
   "execution_count": 328,
   "metadata": {},
   "outputs": [
    {
     "name": "stderr",
     "output_type": "stream",
     "text": [
      "INFO:extract_experimental_results:Reading ../../results/evidence-misinformation/reversed-polarity/misinfo-answers-2021-yesno-reversed-polarity.csv\n",
      "INFO:extract_experimental_results:Reading ../../results/evidence-misinformation/reversed-polarity/misinfo-answers-2021-yesno-reversed-polarity.csv\n",
      "INFO:extract_experimental_results:Reading ../../results/evidence-misinformation/reversed-polarity/misinfo-answers-2021-yesnounsure-reversed-polarity.csv\n",
      "INFO:extract_experimental_results:Reading ../../results/evidence-misinformation/reversed-polarity/misinfo-answers-2021-yesnounsure-reversed-polarity.csv\n"
     ]
    }
   ],
   "source": [
    "revpol_results_csvs = ['../../results/evidence-misinformation/reversed-polarity/misinfo-answers-2021-yesno-reversed-polarity.csv',\\\n",
    "               '../../results/evidence-misinformation/reversed-polarity/misinfo-answers-2021-yesno-reversed-polarity.csv']\n",
    "revpol_results_csvs_unsure = ['../../results/evidence-misinformation/reversed-polarity/misinfo-answers-2021-yesnounsure-reversed-polarity.csv',\\\n",
    "               '../../results/evidence-misinformation/reversed-polarity/misinfo-answers-2021-yesnounsure-reversed-polarity.csv']\n",
    "\n",
    "\n",
    "rev_pol_results_df = read_results_csv(csv_files=revpol_results_csvs, topics=topics, label=\"Prompt: Yes/No (Reversed question)\")\n",
    "rev_pol_results_df['GroundTruth'] = rev_pol_results_df['GroundTruth'].astype(str)\n",
    "rev_pol_results_df['ChatGPTAnswer'] = rev_pol_results_df['ChatGPTAnswer'].astype(str)\n",
    "\n",
    "rev_pol_results_df_unsure = read_results_csv(csv_files=revpol_results_csvs_unsure, topics=topics, label=\"Prompt: Yes/No/Unsure (Reversed question)\")\n",
    "rev_pol_results_df_unsure['GroundTruth'] = rev_pol_results_df_unsure['GroundTruth'].astype(str)\n",
    "rev_pol_results_df_unsure['ChatGPTAnswer'] = rev_pol_results_df_unsure['ChatGPTAnswer'].astype(str)"
   ]
  },
  {
   "cell_type": "code",
   "execution_count": 329,
   "metadata": {},
   "outputs": [
    {
     "name": "stderr",
     "output_type": "stream",
     "text": [
      "INFO:extract_experimental_results:56 / 100 correct = 0.56\n"
     ]
    },
    {
     "data": {
      "text/html": [
       "<div>\n",
       "<style scoped>\n",
       "    .dataframe tbody tr th:only-of-type {\n",
       "        vertical-align: middle;\n",
       "    }\n",
       "\n",
       "    .dataframe tbody tr th {\n",
       "        vertical-align: top;\n",
       "    }\n",
       "\n",
       "    .dataframe thead th {\n",
       "        text-align: right;\n",
       "    }\n",
       "</style>\n",
       "<table border=\"1\" class=\"dataframe\">\n",
       "  <thead>\n",
       "    <tr style=\"text-align: right;\">\n",
       "      <th></th>\n",
       "      <th>measure</th>\n",
       "      <th>value</th>\n",
       "    </tr>\n",
       "  </thead>\n",
       "  <tbody>\n",
       "    <tr>\n",
       "      <th>0</th>\n",
       "      <td>Correct</td>\n",
       "      <td>56.00</td>\n",
       "    </tr>\n",
       "    <tr>\n",
       "      <th>1</th>\n",
       "      <td>Unsure</td>\n",
       "      <td>0.00</td>\n",
       "    </tr>\n",
       "    <tr>\n",
       "      <th>2</th>\n",
       "      <td>Incorrect</td>\n",
       "      <td>44.00</td>\n",
       "    </tr>\n",
       "    <tr>\n",
       "      <th>3</th>\n",
       "      <td>Total</td>\n",
       "      <td>100.00</td>\n",
       "    </tr>\n",
       "    <tr>\n",
       "      <th>4</th>\n",
       "      <td>Accuracy</td>\n",
       "      <td>0.56</td>\n",
       "    </tr>\n",
       "  </tbody>\n",
       "</table>\n",
       "</div>"
      ],
      "text/plain": [
       "     measure   value\n",
       "0    Correct   56.00\n",
       "1     Unsure    0.00\n",
       "2  Incorrect   44.00\n",
       "3      Total  100.00\n",
       "4   Accuracy    0.56"
      ]
     },
     "execution_count": 329,
     "metadata": {},
     "output_type": "execute_result"
    }
   ],
   "source": [
    "revpol_evaluation = eval_answer_correctness_df(rev_pol_results_df)\n",
    "revpol_evaluation"
   ]
  },
  {
   "cell_type": "code",
   "execution_count": 330,
   "metadata": {},
   "outputs": [
    {
     "name": "stderr",
     "output_type": "stream",
     "text": [
      "INFO:extract_experimental_results:4 / 100 correct = 0.04\n"
     ]
    },
    {
     "data": {
      "text/html": [
       "<div>\n",
       "<style scoped>\n",
       "    .dataframe tbody tr th:only-of-type {\n",
       "        vertical-align: middle;\n",
       "    }\n",
       "\n",
       "    .dataframe tbody tr th {\n",
       "        vertical-align: top;\n",
       "    }\n",
       "\n",
       "    .dataframe thead th {\n",
       "        text-align: right;\n",
       "    }\n",
       "</style>\n",
       "<table border=\"1\" class=\"dataframe\">\n",
       "  <thead>\n",
       "    <tr style=\"text-align: right;\">\n",
       "      <th></th>\n",
       "      <th>measure</th>\n",
       "      <th>value</th>\n",
       "    </tr>\n",
       "  </thead>\n",
       "  <tbody>\n",
       "    <tr>\n",
       "      <th>0</th>\n",
       "      <td>Correct</td>\n",
       "      <td>4.00</td>\n",
       "    </tr>\n",
       "    <tr>\n",
       "      <th>1</th>\n",
       "      <td>Unsure</td>\n",
       "      <td>86.00</td>\n",
       "    </tr>\n",
       "    <tr>\n",
       "      <th>2</th>\n",
       "      <td>Incorrect</td>\n",
       "      <td>10.00</td>\n",
       "    </tr>\n",
       "    <tr>\n",
       "      <th>3</th>\n",
       "      <td>Total</td>\n",
       "      <td>100.00</td>\n",
       "    </tr>\n",
       "    <tr>\n",
       "      <th>4</th>\n",
       "      <td>Accuracy</td>\n",
       "      <td>0.04</td>\n",
       "    </tr>\n",
       "  </tbody>\n",
       "</table>\n",
       "</div>"
      ],
      "text/plain": [
       "     measure   value\n",
       "0    Correct    4.00\n",
       "1     Unsure   86.00\n",
       "2  Incorrect   10.00\n",
       "3      Total  100.00\n",
       "4   Accuracy    0.04"
      ]
     },
     "execution_count": 330,
     "metadata": {},
     "output_type": "execute_result"
    }
   ],
   "source": [
    "revpol_evaluation_unsure = eval_answer_correctness_df(rev_pol_results_df_unsure)\n",
    "revpol_evaluation_unsure"
   ]
  },
  {
   "cell_type": "code",
   "execution_count": 331,
   "metadata": {},
   "outputs": [],
   "source": [
    "rev_pol_results_df['Correct'] = [\"Correct\" if answer else \"Incorrect\" for answer in rev_pol_results_df['Correct']]\n",
    "rev_pol_results_df_unsure['Correct'] = [\"Correct\" if answer else \"Incorrect\" for answer in rev_pol_results_df_unsure['Correct']]"
   ]
  },
  {
   "cell_type": "code",
   "execution_count": 332,
   "metadata": {},
   "outputs": [],
   "source": [
    "rev_pol_results_df = pd.concat([results_df, rev_pol_results_df, rev_pol_results_df_unsure])"
   ]
  },
  {
   "cell_type": "code",
   "execution_count": 333,
   "metadata": {},
   "outputs": [
    {
     "data": {
      "image/png": "[encoded data removed]",
      "text/plain": [
       "<Figure size 700x500 with 4 Axes>"
      ]
     },
     "metadata": {
      "needs_background": "light"
     },
     "output_type": "display_data"
    },
    {
     "data": {
      "text/plain": [
       "<ggplot: (677440194)>"
      ]
     },
     "execution_count": 333,
     "metadata": {},
     "output_type": "execute_result"
    }
   ],
   "source": [
    "p = pl.ggplot(rev_pol_results_df, pl.aes(fill='ChatGPTAnswer', x='Correct')) \\\n",
    "+ pl.geom_bar() \\\n",
    "+ pl.xlab(\"ChatGPT Answer Correctness\") \\\n",
    "+ pl.facet_wrap('Label') \\\n",
    "+ pl.scale_fill_grey(name=\"How ChatGPT answered:\")\\\n",
    "+ pl.ylab(\"Count\") \\\n",
    "+ pl.theme_minimal() \\\n",
    "+ pl.theme(text=pl.element_text(size=12, family=\"Helvetica\")) \\\n",
    "+ pl.theme(figure_size=(7,5), subplots_adjust={'wspace': .1}) \\\n",
    "+ pl.theme(legend_position='top')\n",
    "p"
   ]
  },
  {
   "cell_type": "code",
   "execution_count": 368,
   "metadata": {},
   "outputs": [
    {
     "data": {
      "image/png": "[encoded data removed]",
      "text/plain": [
       "<Figure size 400x550 with 2 Axes>"
      ]
     },
     "metadata": {
      "needs_background": "light"
     },
     "output_type": "display_data"
    },
    {
     "data": {
      "text/plain": [
       "<ggplot: (678914571)>"
      ]
     },
     "execution_count": 368,
     "metadata": {},
     "output_type": "execute_result"
    }
   ],
   "source": [
    "p = pl.ggplot(rev_pol_results_df.query('Label.str.contains(\"Reversed\")'), pl.aes(fill='ChatGPTAnswer', x='Correct')) \\\n",
    "+ pl.geom_bar(width = 0.5) \\\n",
    "+ pl.facet_wrap('Label', nrow=2) \\\n",
    "+ pl.xlab(\"ChatGPT Answer\") \\\n",
    "+ pl.scale_fill_grey(name=\"How ChatGPT answered:\")\\\n",
    "+ pl.ylab(\"Count\") \\\n",
    "+ pl.theme_minimal() \\\n",
    "+ pl.theme(text=pl.element_text(size=12, family=\"Helvetica\")) \\\n",
    "+ pl.theme(figure_size=(4,5.5), subplots_adjust={'hspace':.3}) \\\n",
    "+ pl.theme(legend_position='top')\n",
    "p"
   ]
  },
  {
   "cell_type": "code",
   "execution_count": 369,
   "metadata": {},
   "outputs": [
    {
     "name": "stderr",
     "output_type": "stream",
     "text": [
      "/Users/koo01a/.local/share/virtualenvs/health-misinformation-rUy22Q7j/lib/python3.10/site-packages/plotnine/ggplot.py:718: PlotnineWarning: Saving 4 x 5.5 in image.\n",
      "/Users/koo01a/.local/share/virtualenvs/health-misinformation-rUy22Q7j/lib/python3.10/site-packages/plotnine/ggplot.py:719: PlotnineWarning: Filename: ../../papers/emnlp2023-healthgpt/Sections/figures/gt_rev_pol.pdf\n"
     ]
    }
   ],
   "source": [
    "p.save('../../papers/emnlp2023-healthgpt/Sections/figures/gt_rev_pol.pdf')"
   ]
  },
  {
   "cell_type": "markdown",
   "metadata": {},
   "source": [
    "### Split between Yes/No questions"
   ]
  },
  {
   "cell_type": "code",
   "execution_count": 372,
   "metadata": {},
   "outputs": [
    {
     "data": {
      "image/png": "[encoded data removed]",
      "text/plain": [
       "<Figure size 400x350 with 2 Axes>"
      ]
     },
     "metadata": {
      "needs_background": "light"
     },
     "output_type": "display_data"
    },
    {
     "data": {
      "text/plain": [
       "<ggplot: (674981024)>"
      ]
     },
     "execution_count": 372,
     "metadata": {},
     "output_type": "execute_result"
    }
   ],
   "source": [
    "p = pl.ggplot(rev_pol_results_df.query('Label.str.contains(\"Reversed\")'), pl.aes(x='ChatGPTAnswer', fill=\"Correct\")) \\\n",
    "+ pl.geom_bar() \\\n",
    "+ pl.facet_wrap('GroundTruth', labeller='label_both') \\\n",
    "+ pl.xlab(\"Answer given by ChatGPT\") \\\n",
    "+ pl.ylab(\"Count\") \\\n",
    "+ pl.scale_fill_grey() \\\n",
    "+ pl.theme_minimal() \\\n",
    "+ pl.theme(text=pl.element_text(size=12, family='Helvetica')) \\\n",
    "+ pl.theme(legend_position='top', legend_title=pl.element_blank()) \\\n",
    "+ pl.theme(figure_size=(4,3.5))\n",
    "\n",
    "p"
   ]
  },
  {
   "cell_type": "code",
   "execution_count": null,
   "metadata": {},
   "outputs": [],
   "source": []
  }
 ],
 "metadata": {
  "kernelspec": {
   "display_name": "Python 3 (ipykernel)",
   "language": "python",
   "name": "python3"
  },
  "language_info": {
   "codemirror_mode": {
    "name": "ipython",
    "version": 3
   },
   "file_extension": ".py",
   "mimetype": "text/x-python",
   "name": "python",
   "nbconvert_exporter": "python",
   "pygments_lexer": "ipython3",
   "version": "3.11.4"
  }
 },
 "nbformat": 4,
 "nbformat_minor": 1
}
